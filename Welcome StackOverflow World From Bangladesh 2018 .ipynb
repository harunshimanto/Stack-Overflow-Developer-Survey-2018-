{
  "cells": [
    {
      "metadata": {
        "_uuid": "8f2839f25d086af736a60e9eeb907d3b93b6e0e5",
        "_cell_guid": "b1076dfc-b9ad-4769-8c92-a6c4dae69d19",
        "trusted": true,
        "collapsed": true
      },
      "cell_type": "markdown",
      "source": "# Welcome StackOverflow World From Bangladesh 2018 \nHello everyone from Bangladesh!! I bet everyone must be. Apart from the competitions, there are certain datasets which I found very cool. Most of these are dirty datasets and I think, the more you engage yourself in such datasets, the better you become. After all, in the real world, no one is going to give you a cleaned dataset. Cleaning is an important process and apart from other pre-processing stuff, I think data cleaning eats 70% of the time. Playing with messy datasets can help you become better at this task.\n\nStackOverflow survey 2018 is another such kind of dataset. Though I won't say that it's too messy but yeah it is enough to make you sweat to figure out important features for your ML model that you might want to put on some of the subsets of this survey. So, let's dive in!!\n\nPS: This will be a long kernel and I will be updating it from time to time. So look out for new things whenever you visit this dataset page. Also, don't forget to up vote if you like it."
    },
    {
      "metadata": {
        "_uuid": "23550d4810a9ef128997d4a2b9f6e911666d732e"
      },
      "cell_type": "markdown",
      "source": "![Imgur](https://i.imgur.com/LfCEkkc.png)"
    },
    {
      "metadata": {
        "_uuid": "532295624dc2afd33f03064815a4197fd84253e1"
      },
      "cell_type": "markdown",
      "source": "## Introduction\nStackOverflow:\n\n*Each year, we at Stack Overflow ask the developer community about everything from their favorite technologies to their job preferences. This year marks the eighth year we’ve published our Annual Developer Survey results—with the largest number of respondents yet. Over 100,000 developers took the 30-minute survey in January 2018.\n\nThis year, we covered a few new topics ranging from artificial intelligence to ethics in coding. We also found that underrepresented groups in tech responded to our survey at even lower rates than we would expect from their participation in the workforce. Want to dive into the results yourself and see what you can learn about salaries or machine learning or diversity in tech? We look forward to seeing what you find!*"
    },
    {
      "metadata": {
        "_cell_guid": "79c7e3d0-c299-4dcb-8224-4455121ee9b0",
        "collapsed": true,
        "_uuid": "d629ff2d2480ee46fbb7e2d37f6b5fab8052498a",
        "trusted": false
      },
      "cell_type": "markdown",
      "source": "## Load Import necessary dependencies"
    },
    {
      "metadata": {
        "trusted": true,
        "_uuid": "778ad1fc834f195714d1c85530cf33f6a7a60492",
        "collapsed": true
      },
      "cell_type": "code",
      "source": "# This Python 3 environment comes with many helpful analytics libraries installed\n# It is defined by the kaggle/python docker image: https://github.com/kaggle/docker-python\n# For example, here's several helpful packages to load in \nimport os\nimport glob\nimport shutil\nimport altair as alt\nimport numpy as np # linear algebra\nimport pandas as pd # data processing, CSV file I/O (e.g. pd.read_csv)\nimport seaborn as sns\nimport matplotlib.pyplot as plt\nimport matplotlib.image as mimg\nfrom os import listdir, makedirs, getcwd, remove\nfrom os.path import isfile, join, abspath, exists, isdir, expanduser\nfrom PIL import Image\nfrom pathlib import Path\nimport missingno as msno\nfrom sklearn.model_selection import train_test_split\nfrom sklearn.preprocessing import StandardScaler\ncolor = sns.color_palette()\n%matplotlib inline\nsns.set(font_scale=2)\nfrom plotly import tools\nimport plotly.plotly as py\nfrom plotly.offline import init_notebook_mode, iplot\ninit_notebook_mode(connected=True)\nimport plotly.graph_objs as go\nimport plotly.figure_factory as ff\n# Squarify for treemaps\nimport squarify\n# Input data files are available in the \"../input/\" directory.\n# For example, running this (by clicking run or pressing Shift+Enter) will list the files in the input directory\nimport random\nprint(os.listdir(\"../input\"))\nnp.random.seed(111)\n# Any results you write to the current directory are saved as output.",
      "execution_count": null,
      "outputs": []
    },
    {
      "metadata": {
        "_uuid": "a214533d1a3eb3d99de84ed6a7131556e5f1f663"
      },
      "cell_type": "markdown",
      "source": "## Load and Read DataSets"
    },
    {
      "metadata": {
        "trusted": true,
        "_uuid": "5348f9be479ecc05082aa37010a1d4e65ff48e46",
        "collapsed": true
      },
      "cell_type": "code",
      "source": "# Read the CSV file\ndata = pd.read_csv('../input/survey_results_public.csv')\nsurvey_results = pd.read_csv('../input/survey_results_schema.csv')",
      "execution_count": null,
      "outputs": []
    },
    {
      "metadata": {
        "trusted": true,
        "collapsed": true,
        "_uuid": "3e33c4d6ac2f865cc9f5992a6bff4b2bea2a7527"
      },
      "cell_type": "code",
      "source": "color_brewer = ['#41B5A3','#FFAF87','#FF8E72','#ED6A5E','#377771','#E89005','#C6000D','#000000','#05668D','#028090','#9FD35C','#02C39A','#F0F3BD','#41B5A3','#FF6F59','#254441','#B2B09B','#EF3054','#9D9CE8','#0F4777','#5F67DD','#235077','#CCE4F9','#1748D1','#8BB3D6','#467196','#F2C4A2','#F2B1A4','#C42746','#330C25']\ndef voteSimplifier(v,o):\n    d = {}\n    for type in v:\n        type = str(type).split(';')\n        for i in type: \n            if i in d:\n                d[i] = d[i] + 1\n            else:\n                d[i] = 0\n    if o == 'v':\n        Y = list(d.values())\n        X = list(d.keys())\n    else: \n        Y = list(d.keys())\n        X = list(d.values())\n    trace = [go.Bar(\n                y=Y,\n                x=X,\n                orientation = o,\n                marker=dict(color=color_brewer),\n    )]\n    layout = go.Layout(\n        margin = go.Margin(\n            l = 600 if o == 'h' else 50\n        )\n    )\n\n    fig = go.Figure(data=trace, layout=layout)\n    iplot(fig, filename='horizontal-bar')",
      "execution_count": null,
      "outputs": []
    },
    {
      "metadata": {
        "_uuid": "482364e7a678e23e5294da1ed57540b2303194fa"
      },
      "cell_type": "markdown",
      "source": "## View Survey Results Public"
    },
    {
      "metadata": {
        "trusted": true,
        "_uuid": "cef61b3d29d7b55facf1e4795f1dbb21fedcfb3a",
        "collapsed": true
      },
      "cell_type": "code",
      "source": "data.head()",
      "execution_count": null,
      "outputs": []
    },
    {
      "metadata": {
        "_uuid": "fd8e38aebfd1261fea94f5bc20a6c6b8637d3341"
      },
      "cell_type": "markdown",
      "source": "## Missing Data"
    },
    {
      "metadata": {
        "trusted": true,
        "_uuid": "1c7193af89087a3cd3dc6e7ffb0e48641985325f",
        "collapsed": true
      },
      "cell_type": "code",
      "source": "print(data.isnull().sum())\nmsno.matrix(data)\nplt.show()",
      "execution_count": null,
      "outputs": []
    },
    {
      "metadata": {
        "_uuid": "afa1a4fec5942992804ad0203b02fcaaafed9fe6"
      },
      "cell_type": "markdown",
      "source": "## Total Percentage of Missing Data (Survey Results Public)"
    },
    {
      "metadata": {
        "trusted": true,
        "_uuid": "b138eaddc17935a6b5287d02cb3ef2fcb3b80a11",
        "collapsed": true
      },
      "cell_type": "code",
      "source": "# how many total missing values do we have?\nmissing_values_count = data.isnull().sum()\ntotal_cells = np.product(data.shape)\ntotal_missing = missing_values_count.sum()\n\n# percent of data that is missing\nprint((total_missing/total_cells) * 100, '% of Missing Values in Survey Results Public')",
      "execution_count": null,
      "outputs": []
    },
    {
      "metadata": {
        "_uuid": "2d533849f2f6dc02612afc438adb0171582e4990"
      },
      "cell_type": "markdown",
      "source": "## % of Missing Data in Columns (Survey Results Public)"
    },
    {
      "metadata": {
        "trusted": true,
        "_uuid": "63c4da26f3a39b1ea8a3c0baee2ed38ee649b39c",
        "collapsed": true
      },
      "cell_type": "code",
      "source": "# checking missing data in each survey results public column\ntotal_missing = data.isnull().sum().sort_values(ascending = False)\npercentage = (data.isnull().sum()/data.isnull().count()*100).sort_values(ascending = False)\nmissing_survey_results_public = pd.concat([total_missing, percentage], axis=1, keys=['Total Missing (Column-wise)', 'Percentage (%)'])\nmissing_survey_results_public.head()",
      "execution_count": null,
      "outputs": []
    },
    {
      "metadata": {
        "_uuid": "0568113e5173a98535ec6d1328ef2dd21aa1d08d"
      },
      "cell_type": "markdown",
      "source": "## Know the respondent a little bit\nIn this section, we will know the respondent who takes the survey in 2018."
    },
    {
      "metadata": {
        "trusted": true,
        "_uuid": "236189b67716aa3c2cff6fb021af3d02fffcd067",
        "collapsed": true
      },
      "cell_type": "code",
      "source": "f,ax=plt.subplots(2,2,figsize=(25,20))\n\nval_survey_country = data.Country.value_counts()[:15].sort_values(ascending=True).plot.barh(width=0.9,color=sns.color_palette('winter_r',15),ax=ax[0][0])\nval_cod_hobby = data.Hobby.value_counts().plot.bar(width=0.9,color=sns.color_palette('winter_r',15),ax=ax[0][1])\nval_contri_open_source = data.OpenSource.value_counts().plot.bar(width=0.9,color=sns.color_palette('winter_r',15),ax=ax[1][0])\nval_current_student = data.Student.value_counts().plot.bar(width=0.9,color=sns.color_palette('winter_r',15),ax=ax[1][1])\n\n\nplt.subplots_adjust(wspace=0.1)\nax[0][0].set_title('Popular country among respondent')\nax[0][1].set_title('Do you code as a hobby?')\nax[1][0].set_title('Contribute to open source project')\nax[1][1].set_title('Currently enrolled as student')\n# plt.savefig('stat.png')\nplt.show()",
      "execution_count": null,
      "outputs": []
    },
    {
      "metadata": {
        "_uuid": "c5a634a2796efc26660f45156f7d196444a3b116"
      },
      "cell_type": "markdown",
      "source": "The above graph is telling us that most popular country among respondent is United States, India, Germany, United Kingdom. The second plot tells us that majority of developers code as a hobby. The third plot tells us that the percentage of the developer who doesn't contribute to open source project is higher than those who contribute. Lastly, the last plot tells us that most of the developers who take the survey currently don't enrol as a student."
    },
    {
      "metadata": {
        "trusted": true,
        "_uuid": "e48b57f6d5846f9636c53ba5c6adcb278d124a0b",
        "collapsed": true
      },
      "cell_type": "code",
      "source": "f,ax=plt.subplots(2,2,figsize=(25,25))\n\n\nval_current_student = data.Employment.value_counts().sort_values(ascending=True).plot.barh(width=0.9,color=sns.color_palette('inferno_r',15),ax=ax[0][1])\nval_current_student = data.FormalEducation.value_counts().sort_values(ascending=True).plot.barh(width=0.9,color=sns.color_palette('inferno_r',15),ax=ax[0][0])\nval_current_student = data.UndergradMajor.value_counts().sort_values(ascending=True).plot.barh(width=0.9,color=sns.color_palette('inferno_r',15),ax=ax[1][0])\nval_current_student = data.CompanySize.value_counts().sort_values(ascending=True).plot.barh(width=0.9,color=sns.color_palette('inferno_r',15),ax=ax[1][1])\n\n\n\nplt.subplots_adjust(wspace=0.8)\nax[0][1].set_title('Popular employment status')\nax[0][0].set_title('Popular formal education')\nax[1][0].set_title('Popular Undergrad major')\nax[1][1].set_title('How many people employed by your company')\nplt.show()",
      "execution_count": null,
      "outputs": []
    },
    {
      "metadata": {
        "_uuid": "a885cce3f5772026750864ab675e7827399db3fe"
      },
      "cell_type": "markdown",
      "source": "Popular formal education is Bachelor degree, popular undergrad major is computer science. Most of the developers are employed full time and company size is 20 - 99 employees"
    },
    {
      "metadata": {
        "trusted": true,
        "_uuid": "f268fa76ba5ffc51e688a69d7dafb93874d0cbf9",
        "collapsed": true
      },
      "cell_type": "code",
      "source": "f,ax=plt.subplots(2,2,figsize=(25,25))\n\nval_survey_country = data.DevType.value_counts()[:15].sort_values(ascending=True).plot.barh(width=0.9,color=sns.color_palette('winter_r',15),ax=ax[0][0])\nval_cod_hobby = data.YearsCoding.value_counts().plot.bar(width=0.9,color=sns.color_palette('winter_r',15),ax=ax[0][1])\nval_contri_open_source = data.YearsCodingProf.value_counts().plot.bar(width=0.9,color=sns.color_palette('winter_r',15),ax=ax[1][0])\nval_current_student = data.JobSatisfaction.value_counts().plot.bar(width=0.9,color=sns.color_palette('winter_r',15),ax=ax[1][1])\n\n\nplt.subplots_adjust(wspace=0.1)\nax[0][0].set_title('Popular Dev Type among respondent')\nax[0][1].set_title('Popular years of coding experience including education among developers')\nax[1][0].set_title('Popular years of professional coding experience among developers')\nax[1][1].set_title('Currently enrolled as student')\nplt.show()",
      "execution_count": null,
      "outputs": []
    },
    {
      "metadata": {
        "_uuid": "edb518f95e08b6aeaef195fab02e026d99760f07"
      },
      "cell_type": "markdown",
      "source": " I would look up for columns first that are more interesting than others(TBH, I would go for random   )"
    },
    {
      "metadata": {
        "trusted": true,
        "_uuid": "492a5555fde41d560eb025f2eb310e7be1bf818d",
        "collapsed": true
      },
      "cell_type": "code",
      "source": "# How many entries are there?\nprint(\"Total number of responses: \", data.shape[0])\n\n# How many columns are there?\nprint(\"Number of columns in the dataset: \", data.shape[1])\n\n# What are the column names?\nprint(\"Columns are: \")\nprint(list(data.columns))",
      "execution_count": null,
      "outputs": []
    },
    {
      "metadata": {
        "_uuid": "6a21beddafc7cd4946503bb2063c7e107752db4a"
      },
      "cell_type": "markdown",
      "source": "Before we start, let's define some handy-dandy functions. These functions will be used over the time at different places in the notebook. Always remember** Repeating same code is a bad practice**. So, until unless you are too lazy, just keep things in functions/classes."
    },
    {
      "metadata": {
        "trusted": true,
        "collapsed": true,
        "_uuid": "62406d51f5a245b34b93c95911f18cbe8075d0ac"
      },
      "cell_type": "code",
      "source": "# A handy dandy function for making a bar plot. You can make it as flexible as much as you want!!\ndef do_barplot(df, figsize=(20,8), plt_title=None, xlabel=None, ylabel=None, title_fontsize=20, fontsize=16, orient='v', clr=None, max_counts=None):\n    # Get the value counts \n    df_counts = df.value_counts()\n    total = df.shape[0]\n    \n    # If there are too many values, limit the amount of information for display purpose\n    if max_counts:\n        df_counts = df_counts[:max_counts]\n    \n    # Print the values along with their counts and overall %age\n    for i, idx in enumerate(df_counts.index):\n        val = df_counts.values[i]\n        percentage = (val/total)*100\n        print(\"{:<20s}    {}  or roughly {:.2f}% \".format(idx, val, percentage))\n    \n    # Plot the results \n    plt.figure(figsize=figsize)\n    if orient=='h':\n        if clr:\n            sns.barplot(y=df_counts.index, x=df_counts.values, orient='h', color=color[clr])\n        else:\n            sns.barplot(y=df_counts.index, x=df_counts.values, orient='h')\n    else:\n        if color:\n            sns.barplot(x=df_counts.index, y=df_counts.values, orient='v', color=color[clr])\n        else:\n            sns.barplot(x=df_counts.index, y=df_counts.values, orient='v')\n            \n    plt.title(plt_title, fontsize=title_fontsize)\n    plt.ylabel(ylabel, fontsize=fontsize)\n    plt.xlabel(xlabel, fontsize=fontsize)\n    \n    if orient=='h':\n        plt.yticks(range(len(df_counts.index)), df_counts.index)\n    else:\n        plt.xticks(range(len(df_counts.index)), df_counts.index)\n    plt.show()\n    del df_counts",
      "execution_count": null,
      "outputs": []
    },
    {
      "metadata": {
        "trusted": true,
        "collapsed": true,
        "_uuid": "6d88f5f053e45d6f3a064bac373a13c853511190"
      },
      "cell_type": "code",
      "source": "# A handy dandy function for countplot. (I may or may not use it very often but let's define it anyways)\ndef do_countplot(df, yval=None, xval=None, hueval=None, axs=[0,0], hue_ord=None):\n    if df is None or (xval is None and yval is None):\n        print(\"Either data or the axis values is missing\")\n        return\n    if yval:\n        sns.countplot(y=yval, data=df, hue=hueval, ax=axs,hue_order=hue_ord)\n    else:\n        sns.countplot(x=xval, data=df, hue=hueval, ax=axs,hue_order=hue_ord)",
      "execution_count": null,
      "outputs": []
    },
    {
      "metadata": {
        "_uuid": "16d9a48c95a08ad9d2629105f6844d7df9631f28"
      },
      "cell_type": "markdown",
      "source": "## Coding- Do you code as a hobby?"
    },
    {
      "metadata": {
        "trusted": true,
        "_uuid": "4f42d361f8d7f0fb04124f338cce824f311ee612",
        "collapsed": true
      },
      "cell_type": "code",
      "source": "# Get the hobby column \nhobby = data['Hobby'].dropna()\n\n# Visualize the results. (You see, how handy our function is!!)\ndo_barplot(df=hobby, figsize=(10,8), \n           fontsize=16, title_fontsize=20, \n           xlabel='Hobby?', ylabel='Count', \n           plt_title=\"Coding as a hobby\",\n           orient='v', clr=3)\ndel hobby",
      "execution_count": null,
      "outputs": []
    },
    {
      "metadata": {
        "_uuid": "ed690d44f2ea210ac5c41226ab1c10d27ebe0ef1"
      },
      "cell_type": "markdown",
      "source": "80% of the developers say that coding is their hobby. If you are a serious developer, then if not initially but after a certain period of time, coding eventually becomes your hobby. Of course there will be exceptions but in general you start loving things you do regularly."
    },
    {
      "metadata": {
        "_uuid": "61a3f5a33f81d492e285bcb635783152206f6fa5"
      },
      "cell_type": "markdown",
      "source": "## OpenSource: Do you contribute to open source projects?"
    },
    {
      "metadata": {
        "trusted": true,
        "_uuid": "ba2784b93b0819ee522aeaef85c1a9bbacf241d6",
        "collapsed": true
      },
      "cell_type": "code",
      "source": "# Get the corresponding column and drop the null values\nopensource = data['OpenSource'].dropna()\n\n#visualize\ndo_barplot(df=opensource, figsize=(10,8), \n           fontsize=16, title_fontsize=20, \n           xlabel=\"Type\", ylabel='Count', \n           plt_title=\"Contribution to OpenSource\",\n           orient='v', clr=2)\ndel opensource",
      "execution_count": null,
      "outputs": []
    },
    {
      "metadata": {
        "_uuid": "58ac67fa8ae972333979bbea141af77c1b6e4d09"
      },
      "cell_type": "markdown",
      "source": "Contributing to oprnsource is one of the most important things. We should always support Open Source. But there are situations when contributing to open source isn't possible. For example, some companies don't allow their employee to contribute, sometimes the developer doesn't know how to contribute or where to start from or sometimes people are just too busy. But no matter what, you should always try to contribute to open source."
    },
    {
      "metadata": {
        "_uuid": "a036cad40fcb682aba916c62fb8ec0798b490154"
      },
      "cell_type": "markdown",
      "source": "## Country: In which country do you currently reside?"
    },
    {
      "metadata": {
        "trusted": true,
        "_uuid": "07c3f067121a22481575e3b08d468164621b23ff",
        "collapsed": true
      },
      "cell_type": "code",
      "source": "# Get the country column and do a value counts\ncountry = data['Country'].dropna()\ncountry_counts = country.value_counts()\n\n# Get the countries with maximum and minimum number of developers\nmax_count = country_counts.max()\nmin_count = country_counts.min()\n\nprint(\"Total number of countries: \", len(country_counts))\nprint(\"Country with maximum number of developers: {}     #Developers: {}\".format(country_counts.index[country_counts.values==max_count][0], max_count))\nprint(\"\")\nprint(\"Country with least number of developers: {}     #Developers: {}\".format(list(country_counts.index[country_counts.values==min_count]), min_count))\nprint(\"*********************************************************************************\\n\")\n\n# As there are developers from 183 countries(woahh...), for the sake of plotting we will choose the top 50 countries\nmax_counts = 50\n\n# visualize(check the max counts argument this time)\ndo_barplot(df=country, figsize=(30,30), \n           fontsize=16, title_fontsize=20, \n           xlabel=\"Count\", ylabel=\"Country\", \n           plt_title=\"Country where the developers reside\",\n           orient='h', max_counts=max_counts)\n\ndel country_counts\ndel country    ",
      "execution_count": null,
      "outputs": []
    },
    {
      "metadata": {
        "_uuid": "6ba4d0a1d8b5716fa6781552283ee2ce0db5a53f"
      },
      "cell_type": "markdown",
      "source": "Before we move on to some other things, let's explore the $100,000 worth questions. These questions are all about AI. So, they are more important than others for sure."
    },
    {
      "metadata": {
        "_uuid": "d6744bac7b94d76a73bb8ab4895f116bf0e72ea9"
      },
      "cell_type": "markdown",
      "source": "## Is AI Dangerous?"
    },
    {
      "metadata": {
        "trusted": true,
        "_uuid": "876733ce0eccb3490119db75790b1d51f03c485b",
        "collapsed": true
      },
      "cell_type": "code",
      "source": "aidanger = data['AIDangerous'].dropna()\ndo_barplot(df=aidanger, figsize=(20,10), \n           fontsize=16, title_fontsize=20, \n           xlabel=\"Count\", ylabel=\"Reasoning\", \n           plt_title=\"What do developers fear about AI?\",\n           orient='h')\n\ndel aidanger",
      "execution_count": null,
      "outputs": []
    },
    {
      "metadata": {
        "_uuid": "e1863ca57dc537a7bdddd413e98ac52565ae5494"
      },
      "cell_type": "markdown",
      "source": "## Is AI interesting and how?"
    },
    {
      "metadata": {
        "trusted": true,
        "_uuid": "9f228bf52360056dcaf7ce2f89214751d4da7309",
        "collapsed": true
      },
      "cell_type": "code",
      "source": "# Get the column data\naiinterest = data['AIInteresting'].dropna()\n\n# Visualize\ndo_barplot(df=aiinterest, figsize=(20,10), \n           fontsize=16, title_fontsize=20, \n           xlabel=\"Count\", ylabel=\"Reasoning\", \n           plt_title=\"What's interesting about AI?\",\n           orient='h')\n\ndel aiinterest",
      "execution_count": null,
      "outputs": []
    },
    {
      "metadata": {
        "_uuid": "a0c2ed5c7d58d4b7afa6c16bb40530fb6918692f"
      },
      "cell_type": "markdown",
      "source": "## Who should be responsible for regulating AI things?"
    },
    {
      "metadata": {
        "trusted": true,
        "_uuid": "65566f7731a128c6d3db41a88a032b23b55777d8",
        "collapsed": true
      },
      "cell_type": "code",
      "source": "# Same thing..get the column and just use our handy dandy function. Life is easy!!\nairesp = data['AIResponsible'].dropna()\ndo_barplot(df=airesp, figsize=(20,10), \n           fontsize=16, title_fontsize=20, \n           xlabel=\"Count\", ylabel=\"Who?\", \n           plt_title=\"Who should bear the burden of responsibilites in AI?\",\n           orient='h', clr=8)\ndel airesp",
      "execution_count": null,
      "outputs": []
    },
    {
      "metadata": {
        "_uuid": "13c34be934c05ff12b674ccf659572e8bd447ad8"
      },
      "cell_type": "markdown",
      "source": "This result is truly amazing. I totally agree with the fact that it is our responsibility first to make build ethical things and for doing good for the society. But it is also true that not everyone wants to follow this path. For example, DeepFakes was totally an unacceptable thing as people started using public figure faces in porn without their consent. That is purely evil and unethical. Hence we also need a regulatory body that is above the industries. Whether that should be government itself or an independent body, that is a different thing to discuss."
    },
    {
      "metadata": {
        "_uuid": "e6a8d9524d68174fc42324b4e74cef053db04125"
      },
      "cell_type": "markdown",
      "source": "## What developers think about future of AI?"
    },
    {
      "metadata": {
        "trusted": true,
        "_uuid": "a428d4a35f0f145f8ed54f6fb6b266b3bb0a6dbc",
        "collapsed": true
      },
      "cell_type": "code",
      "source": "# Get the column\naifuture = data['AIFuture'].dropna()\n\n#visualize \ndo_barplot(df=aifuture,figsize=(20,8), \n           fontsize=16, title_fontsize=20, \n           xlabel='Count', ylabel='What?', \n           plt_title=\"Opininon about future of AI?\",\n           orient='h', clr=5)\ndel aifuture",
      "execution_count": null,
      "outputs": []
    },
    {
      "metadata": {
        "_uuid": "d31eb403e10f296ff17285b8bb66916aafb2d567"
      },
      "cell_type": "markdown",
      "source": "## Which programming language is popular?"
    },
    {
      "metadata": {
        "trusted": true,
        "_uuid": "fdce7f74a38c202faba74976fd8f6b94513958f4",
        "collapsed": true
      },
      "cell_type": "code",
      "source": "plt.figure(figsize=(15,10))\nlang = data[data.LanguageWorkedWith.notnull()]['LanguageWorkedWith']\n\nlang_stacked = pd.DataFrame(lang.str.split(';').tolist()).stack()\nlang_stacked.value_counts().sort_values(ascending=True).plot.barh(width=0.9,color=sns.color_palette('inferno_r',15))\n#plt.savefig('sta.png')\nplt.show()",
      "execution_count": null,
      "outputs": []
    },
    {
      "metadata": {
        "_uuid": "8af679b93b3ce3fc1fbdc6cb1db28e58d3c0bbdf"
      },
      "cell_type": "markdown",
      "source": "## Language Desire Next Year"
    },
    {
      "metadata": {
        "trusted": true,
        "_uuid": "182fd6ed01cf30149719598879d2ef60f9f4373c",
        "collapsed": true
      },
      "cell_type": "code",
      "source": "temp = data['LanguageDesireNextYear'].value_counts().head(25).sort_values(ascending=False)\nfig, ax = plt.subplots(figsize=(19,9))\nsns.barplot(temp.values, temp.index, ax=ax)\nax.set(xlabel= 'Count', \n       ylabel = 'Language Desire Next Year', \n       title = \"Top Language Desire Next Year\")\nplt.show()",
      "execution_count": null,
      "outputs": []
    },
    {
      "metadata": {
        "_uuid": "0b9030f8630c84bd5f35f8ee540a80b1f47bd624"
      },
      "cell_type": "markdown",
      "source": "## Databases developers work with(Most popular/used databases)"
    },
    {
      "metadata": {
        "trusted": true,
        "_uuid": "7b672c1c8128f006aedf32c859be46f66eb5d3e7",
        "collapsed": true
      },
      "cell_type": "code",
      "source": "random.shuffle(color_brewer)\nvoteSimplifier(data[\"DatabaseWorkedWith\"].dropna(),'v')",
      "execution_count": null,
      "outputs": []
    },
    {
      "metadata": {
        "_uuid": "56f7d5029473a35ff50dd82717008f3e7d00d985"
      },
      "cell_type": "markdown",
      "source": "## Most popular JobSatisfaction "
    },
    {
      "metadata": {
        "trusted": true,
        "_uuid": "e3f16002d5b2c111e9d4e8cfdf518cee57d0f19b",
        "collapsed": true
      },
      "cell_type": "code",
      "source": "temp = data['JobSatisfaction'].value_counts().head(10).sort_values(ascending=False)\nfig, ax = plt.subplots(figsize=(19,9))\nsns.barplot(temp.values, temp.index, ax=ax)\nax.set(xlabel= 'Count', \n       ylabel = 'JobSatisfaction', \n       title = \"Most popular JobSatisfaction\")\nplt.show()",
      "execution_count": null,
      "outputs": []
    },
    {
      "metadata": {
        "_uuid": "6677a150cfcfd5301271bee360d66848c7be9a6f"
      },
      "cell_type": "markdown",
      "source": "## Top Platform Worked With"
    },
    {
      "metadata": {
        "trusted": true,
        "_uuid": "860d4ba08742af9815a2858ac32ca5e8e4000420",
        "collapsed": true
      },
      "cell_type": "code",
      "source": "temp = data['PlatformWorkedWith'].value_counts().head(10).sort_values(ascending=False)\nfig, ax = plt.subplots(figsize=(19,9))\nsns.barplot(temp.values, temp.index, ax=ax)\nax.set(xlabel= 'Count', \n       ylabel = 'Platform Worked With', \n       title = \"Top Platform Worked With\")\nplt.show()",
      "execution_count": null,
      "outputs": []
    },
    {
      "metadata": {
        "_uuid": "6d3b4b188820ff426919760e88cfc46225ed186b"
      },
      "cell_type": "markdown",
      "source": "## Top Platform Desire Next Year"
    },
    {
      "metadata": {
        "trusted": true,
        "_uuid": "10698228d4d98626fb565e327330b45b5edebd33",
        "collapsed": true
      },
      "cell_type": "code",
      "source": "temp = data['PlatformDesireNextYear'].value_counts().head(10).sort_values(ascending=False)\nfig, ax = plt.subplots(figsize=(19,9))\nsns.barplot(temp.values, temp.index, ax=ax)\nax.set(xlabel= 'Count', \n       ylabel = 'Platform Desire Next Year', \n       title = \"Top Platform Desire Next Year\")\nplt.show()",
      "execution_count": null,
      "outputs": []
    },
    {
      "metadata": {
        "_uuid": "6d5fc3b17008be53208a47b614204638eede4ba4"
      },
      "cell_type": "markdown",
      "source": "## Top Framework Worked With"
    },
    {
      "metadata": {
        "trusted": true,
        "_uuid": "0c6a24bfe1fc17acae1b48328b5e8ed7b942d0da",
        "collapsed": true
      },
      "cell_type": "code",
      "source": "temp = data['FrameworkWorkedWith'].value_counts().head(10).sort_values(ascending=False)\nfig, ax = plt.subplots(figsize=(19,9))\nsns.barplot(temp.values, temp.index, ax=ax)\nax.set(xlabel= 'Count', \n       ylabel = 'Framework Worked With', \n       title = \"Top Framework Worked With\")\nplt.show()",
      "execution_count": null,
      "outputs": []
    },
    {
      "metadata": {
        "_uuid": "e323ff9598e8bf1fa4c2294239a73ca6fd3300a9"
      },
      "cell_type": "markdown",
      "source": "## Top IDE Used by Developers"
    },
    {
      "metadata": {
        "trusted": true,
        "_uuid": "be75ccf673c3668b776925f1071b99966edee8f2",
        "collapsed": true
      },
      "cell_type": "code",
      "source": "temp = data['IDE'].value_counts().head(10).sort_values(ascending=False)\nfig, ax = plt.subplots(figsize=(19,9))\nsns.barplot(temp.values, temp.index, ax=ax)\nax.set(xlabel= 'Count', \n       ylabel = 'IDE', \n       title = \"Top Top IDE Used by Developers\")\nplt.show()",
      "execution_count": null,
      "outputs": []
    },
    {
      "metadata": {
        "_uuid": "56f5e15714fe563ff3eb7b932fd3cae334e31d99"
      },
      "cell_type": "markdown",
      "source": "## Top Operating System"
    },
    {
      "metadata": {
        "trusted": true,
        "_uuid": "ba0b4d892404027dda4926e11af69a37b0f6c090",
        "collapsed": true
      },
      "cell_type": "code",
      "source": "temp = data['OperatingSystem'].value_counts().head(10).sort_values(ascending=False)\nfig, ax = plt.subplots(figsize=(19,9))\nsns.barplot(temp.values, temp.index, ax=ax)\nax.set(xlabel= 'Count', \n       ylabel = 'Operating System', \n       title = \"Top Operating Systems Used by Developers\")\nplt.show()",
      "execution_count": null,
      "outputs": []
    },
    {
      "metadata": {
        "_uuid": "fd8e7531c19cc317154704129f4d975fe8c815da"
      },
      "cell_type": "markdown",
      "source": "## Top Methodology Used by Developers"
    },
    {
      "metadata": {
        "trusted": true,
        "_uuid": "4ba7e5ff76daa1fbdad23999fc91dbeb40b6001c",
        "collapsed": true
      },
      "cell_type": "code",
      "source": "temp = data['Methodology'].value_counts().head(10).sort_values(ascending=False)\nfig, ax = plt.subplots(figsize=(19,9))\nsns.barplot(temp.values, temp.index, ax=ax)\nax.set(xlabel= 'Count', \n       ylabel = 'Methodology', \n       title = \"Top Methodologies Used by Developers\")\nplt.show()",
      "execution_count": null,
      "outputs": []
    },
    {
      "metadata": {
        "_uuid": "0a19813e0dba7da8d6d4bb7d35f9dff322721176"
      },
      "cell_type": "markdown",
      "source": "## Top UpdateCV of Developers"
    },
    {
      "metadata": {
        "trusted": true,
        "_uuid": "07af659314ce80c678213917ad84f23f71c67a57",
        "collapsed": true
      },
      "cell_type": "code",
      "source": "temp = data['UpdateCV'].value_counts().head(10).sort_values(ascending=False)\nfig, ax = plt.subplots(figsize=(19,9))\nsns.barplot(temp.values, temp.index, ax=ax)\nax.set(xlabel= 'Count', \n       ylabel = 'UpdateCV', \n       title = \"Top UpdateCV of Developers\")\nplt.show()",
      "execution_count": null,
      "outputs": []
    },
    {
      "metadata": {
        "_uuid": "c10a3210a94c84684e23eec29d0e12198aad6973"
      },
      "cell_type": "markdown",
      "source": " ## HackathonReasons"
    },
    {
      "metadata": {
        "trusted": true,
        "_uuid": "be044b240e088f8e73198dbb2d5f9d5ae8fa581a",
        "collapsed": true
      },
      "cell_type": "code",
      "source": "temp = data['HackathonReasons'].value_counts().head(10).sort_values(ascending=False)\nfig, ax = plt.subplots(figsize=(90,20))\nsns.barplot(temp.values, temp.index, ax=ax)\nax.set(xlabel= 'Count', \n       ylabel = 'HackathonReasons', \n       title = \"Top HackathonReasons\")\nplt.show()",
      "execution_count": null,
      "outputs": []
    },
    {
      "metadata": {
        "_uuid": "2d76409eda15f17a030434888b1f2a60079f12e6"
      },
      "cell_type": "markdown",
      "source": "## AdBlocker"
    },
    {
      "metadata": {
        "trusted": true,
        "_uuid": "5d78832bb92de682abd4d6e70de1ce9ee3ea6632",
        "collapsed": true
      },
      "cell_type": "code",
      "source": "# Get the corresponding column and drop the null values\nAdBlocker= data['AdBlocker'].dropna()\n\n#visualize\ndo_barplot(df=AdBlocker, figsize=(10,8), \n           fontsize=16, title_fontsize=20, \n           xlabel=\"Type\", ylabel='Count', \n           plt_title=\"AdBlocker\",\n           orient='v', clr=2)\ndel AdBlocker",
      "execution_count": null,
      "outputs": []
    },
    {
      "metadata": {
        "_uuid": "4b39add39c5542c4c690f2ca991e2a0f33eb178d"
      },
      "cell_type": "markdown",
      "source": "## EthicsChoice"
    },
    {
      "metadata": {
        "trusted": true,
        "_uuid": "00f55c7b09f6eb5ae44de61e0be6b52316c9fe22",
        "collapsed": true
      },
      "cell_type": "code",
      "source": "# Get the corresponding column and drop the null values\nEthicsChoice = data['EthicsChoice'].dropna()\n\n#visualize\ndo_barplot(df=EthicsChoice, figsize=(10,8), \n           fontsize=16, title_fontsize=20, \n           xlabel=\"Type\", ylabel='Count', \n           plt_title=\"EthicsChoice\",\n           orient='v', clr=2)\ndel EthicsChoice",
      "execution_count": null,
      "outputs": []
    },
    {
      "metadata": {
        "_uuid": "95a9f9c71559099f5ee473d4faf5e724bb9e31d8"
      },
      "cell_type": "markdown",
      "source": "## EthicsReport"
    },
    {
      "metadata": {
        "trusted": true,
        "_uuid": "9eb09566b1c8c809ff04f0a8933f1b8573d56135",
        "collapsed": true
      },
      "cell_type": "code",
      "source": "# Get the corresponding column and drop the null values\nEthicsReport = data['EthicsReport'].dropna()\n\n#visualize\ndo_barplot(df=EthicsReport, figsize=(30,10), \n           fontsize=16, title_fontsize=20, \n           xlabel=\"Type\", ylabel='Count', \n           plt_title=\"EthicsReport\",\n           orient='v', clr=5)\ndel EthicsReport",
      "execution_count": null,
      "outputs": []
    },
    {
      "metadata": {
        "_uuid": "c4b23b1ef77047d6aed0c6727ae8808de131e424"
      },
      "cell_type": "markdown",
      "source": "# Company size distribution"
    },
    {
      "metadata": {
        "trusted": true,
        "_uuid": "126cbfbc269b597256eb19fdadabc68a9bdbbfe8",
        "collapsed": true
      },
      "cell_type": "code",
      "source": "\nfig = {\n  \"data\": [\n    {\n      \"values\": data[\"CompanySize\"].value_counts().values,\n      \"labels\": data[\"CompanySize\"].value_counts().index,\n      \"domain\": {\"x\": [0, .95]},\n      \"name\": \"Company size distribution\",\n      \"hoverinfo\":\"label+percent+name\",\n      \"hole\": .7,\n      \"type\": \"pie\",\n      \"marker\": {\"colors\": [i for i in reversed(color_brewer)]},\n      \"textfont\": {\"color\": \"#FFFFFF\"}\n    }],\n  \"layout\": {\n        \"title\":\"Company size distribution\",\n        \"annotations\": [\n            {\n                \"font\": {\n                    \"size\": 20\n                },\n                \"showarrow\": False,\n                \"text\": \"Company Size\",\n                \"x\": 0.47,\n                \"y\": 0.5\n            }\n        ]\n    }\n}\niplot(fig, filename='donut')\n",
      "execution_count": null,
      "outputs": []
    },
    {
      "metadata": {
        "_uuid": "0e717e7a2f4a924238d8a351d40db99bac540194"
      },
      "cell_type": "markdown",
      "source": "## How do developers teach themselves?"
    },
    {
      "metadata": {
        "trusted": true,
        "_uuid": "a31cc7de3d015976fc5b1c36d44febbecff67806",
        "collapsed": true
      },
      "cell_type": "code",
      "source": "random.shuffle(color_brewer)\nvoteSimplifier(data[\"SelfTaughtTypes\"].dropna(),'h')",
      "execution_count": null,
      "outputs": []
    },
    {
      "metadata": {
        "_uuid": "ba2014497e18d365d9591b6658ba4e5bd5132af6"
      },
      "cell_type": "markdown",
      "source": "# Top Currency "
    },
    {
      "metadata": {
        "trusted": true,
        "_uuid": "05f18f2ba5999ec210dd5b22c0660d993afc91e2",
        "collapsed": true
      },
      "cell_type": "code",
      "source": "random.shuffle(color_brewer)\nvoteSimplifier(data[\"Currency\"].dropna(),'v')",
      "execution_count": null,
      "outputs": []
    },
    {
      "metadata": {
        "_uuid": "5ef17c124babb5f6c647485f6e647800e4ed6d50"
      },
      "cell_type": "markdown",
      "source": "## Gender ratio among developers in top four countries"
    },
    {
      "metadata": {
        "trusted": true,
        "collapsed": true,
        "_uuid": "ae39817547c4580efa83096e917bcbcea06eb04e"
      },
      "cell_type": "code",
      "source": "# A handy dandy function for returning a grouby object \ndef return_grouped_data(df, group_by =None, group=None):\n    if group_by is None or group is None:\n        print(\"ValueError: You mist provide the groupby and group name\")\n        return\n    \n    grouped_data = df.groupby(group_by).get_group(group).reset_index(drop=True)\n    return grouped_data",
      "execution_count": null,
      "outputs": []
    },
    {
      "metadata": {
        "trusted": true,
        "_uuid": "94d826b2f72ac03bf03b9c3074713f12afb6d85e",
        "collapsed": true
      },
      "cell_type": "code",
      "source": "# Get the revelvant columns and drop null values\ncountry_gender = data[['Country', 'Gender', 'Employment']].dropna()\n\n# Do some cleaning on the gender column. People fill multiple values for this columns. I never get the logic  behind that. It's a survey\n# You fill it up the wrong way, thigs are never gonna improve then.\ncountry_gender['Gender'] = country_gender['Gender'].apply(lambda x: x if x in ['Male', 'Female'] else 'Other')\n\n# Get the groupby object for the top foir countries\ncountry_US = return_grouped_data(df=country_gender,group='United States', group_by='Country')\ncountry_India = return_grouped_data(df=country_gender,group='India', group_by='Country')\ncountry_Germany = return_grouped_data(df=country_gender,group='Germany', group_by='Country')\ncountry_UK = return_grouped_data(df=country_gender,group='United Kingdom', group_by='Country')\ncountry_Bangladesh = return_grouped_data(df=country_gender,group='Bangladesh', group_by='Country')\n\n# Plot the results\nf, axs = plt.subplots(2,2, figsize=(40,25), sharey=True, sharex=True)\nsns.countplot(y=country_US['Employment'], data=country_US, hue='Gender', ax=axs[0,0], hue_order=['Male', 'Female', 'Other'])\naxs[0,0].set_title('US', fontsize=20)\n\nsns.countplot(y=country_India['Employment'], data=country_India, hue='Gender', ax=axs[0,1], hue_order=['Male', 'Female', 'Other'])\naxs[0,1].set_title('India', fontsize=20)\n\nsns.countplot(y=country_Germany['Employment'], data=country_Germany, hue='Gender', ax=axs[1,0], hue_order=['Male', 'Female', 'Other'])\naxs[1,0].set_title('Germany', fontsize=20)\n\nsns.countplot(y=country_UK['Employment'], data=country_UK, hue='Gender', ax=axs[1,1], hue_order=['Male', 'Female', 'Other'])\naxs[1,1].set_title('Bangladesh', fontsize=20)\nplt.show()\n\ndel country_gender, country_US, country_Germany, country_India, country_UK, country_Bangladesh",
      "execution_count": null,
      "outputs": []
    },
    {
      "metadata": {
        "_uuid": "bf609a156014e9fff52d900a372ef1395cf40245"
      },
      "cell_type": "markdown",
      "source": "# Now  what the Text mining have to say "
    },
    {
      "metadata": {
        "_uuid": "7833846299bb500771f901a591b068c2feb0e8f1"
      },
      "cell_type": "markdown",
      "source": "## Keywords for - What do developers fear about AI?"
    },
    {
      "metadata": {
        "trusted": true,
        "_uuid": "749f95801941f7dbee5bcfd0eeb8be3b60e31f44",
        "collapsed": true
      },
      "cell_type": "code",
      "source": "from textblob import TextBlob, Word\nfrom wordcloud import WordCloud, STOPWORDS\nfrom PIL import Image\n\ntext = \" \".join((data['AIDangerous']).astype(str)).lower()\nwc = WordCloud(max_words=1200, stopwords=STOPWORDS, colormap='cool', background_color='Black').generate(text)\nplt.figure(figsize=(13,13))\nplt.imshow(wc)\nplt.axis('off')\nplt.title('What do developers fear about AI?');",
      "execution_count": null,
      "outputs": []
    },
    {
      "metadata": {
        "_uuid": "22c6b9bf6d954b3a924162a8003c71ec302e51d6"
      },
      "cell_type": "markdown",
      "source": "## Keywords for - What's interesting about AI?"
    },
    {
      "metadata": {
        "trusted": true,
        "_uuid": "38efce8b26ffe6d792746f00327ad03484b30cca",
        "collapsed": true
      },
      "cell_type": "code",
      "source": "from textblob import TextBlob, Word\nfrom wordcloud import WordCloud, STOPWORDS\nfrom PIL import Image\n\ntext = \" \".join((data['AIInteresting']).astype(str)).lower()\nwc = WordCloud(max_words=1200, stopwords=STOPWORDS, colormap='cool', background_color='Black').generate(text)\nplt.figure(figsize=(13,13))\nplt.imshow(wc)\nplt.axis('off')\nplt.title(\"What's interesting about AI?\");",
      "execution_count": null,
      "outputs": []
    },
    {
      "metadata": {
        "_uuid": "daddbd13af30dc6300dd87e5e8c657f9e188717b"
      },
      "cell_type": "markdown",
      "source": "## Purpose of the Last CV Update"
    },
    {
      "metadata": {
        "trusted": true,
        "_uuid": "ab396d530b7c8f43811f2068356415fa47e99a85",
        "collapsed": true
      },
      "cell_type": "code",
      "source": "text = \" \".join((data['UpdateCV']).astype(str)).lower()\nwc = WordCloud(max_words=1200, stopwords=STOPWORDS, colormap='cool', background_color='Black').generate(text)\nplt.figure(figsize=(13,13))\nplt.imshow(wc)\nplt.axis('off')\nplt.title('Purpose of the Last CV Update');",
      "execution_count": null,
      "outputs": []
    },
    {
      "metadata": {
        "_uuid": "b486be50c9503efca8cdaf7190687ed934fbfb88"
      },
      "cell_type": "markdown",
      "source": "## Top 2 reasons for the most recent CV Update are probably around:\n1. Update their experience/job status\n2.  Recruitement purpose/Looking out for Job oppurtunity"
    },
    {
      "metadata": {
        "trusted": true,
        "collapsed": true,
        "_uuid": "61a47d954ad1dbc67ab3b10b8b978fc0edba9635"
      },
      "cell_type": "markdown",
      "source": "## Reason for Participating in Hackathons"
    },
    {
      "metadata": {
        "trusted": true,
        "_uuid": "d657be1b922529e79a4b453890b40fdb3ebd6d2f",
        "collapsed": true
      },
      "cell_type": "code",
      "source": "text = \" \".join((data['HackathonReasons']).astype(str)).lower()\nwc = WordCloud(max_words=1200, stopwords=STOPWORDS, colormap='cool', background_color='Black').generate(text)\nplt.figure(figsize=(13,13))\nplt.imshow(wc)\nplt.axis('off')\nplt.title('Reason for Participating in Hackathons');",
      "execution_count": null,
      "outputs": []
    },
    {
      "metadata": {
        "_uuid": "161e2392e6ffc9e51fcb3df43900fc79654487c6"
      },
      "cell_type": "markdown",
      "source": "## Keywords for - Which programming language is popular?"
    },
    {
      "metadata": {
        "trusted": true,
        "_uuid": "4899238cc1707fdf77d164e29f4a7b76fccff765",
        "collapsed": true
      },
      "cell_type": "code",
      "source": "text = \" \".join((data['LanguageWorkedWith']).astype(str)).lower()\nwc = WordCloud(max_words=1200, stopwords=STOPWORDS, colormap='cool', background_color='Black').generate(text)\nplt.figure(figsize=(13,13))\nplt.imshow(wc)\nplt.axis('off')\nplt.title('Which programming language is popular?');",
      "execution_count": null,
      "outputs": []
    },
    {
      "metadata": {
        "_uuid": "daa3f5b8cfb05e83b3e37cc77a18a87fa131308e"
      },
      "cell_type": "markdown",
      "source": "##  Top IDE Used by Developers"
    },
    {
      "metadata": {
        "trusted": true,
        "_uuid": "243bbd41b54679c1ecda98de608b41ca7c3c5292",
        "collapsed": true
      },
      "cell_type": "code",
      "source": "text = \" \".join((data['IDE']).astype(str)).lower()\nwc = WordCloud(max_words=1200, stopwords=STOPWORDS, colormap='cool', background_color='Black').generate(text)\nplt.figure(figsize=(13,13))\nplt.imshow(wc)\nplt.axis('off')\nplt.title('Top IDE Used by Developers');",
      "execution_count": null,
      "outputs": []
    },
    {
      "metadata": {
        "_uuid": "7fef7cd2834a74c7300d8fb09e77ba33831f8d45"
      },
      "cell_type": "markdown",
      "source": "## Country: In which country do you currently reside?"
    },
    {
      "metadata": {
        "trusted": true,
        "_uuid": "393beeebac7ff9ff12e3e8ea23be802b4b8574a3",
        "collapsed": true
      },
      "cell_type": "code",
      "source": "text = \" \".join((data['Country']).astype(str)).lower()\nwc = WordCloud(max_words=1200, stopwords=STOPWORDS, colormap='cool', background_color='Black').generate(text)\nplt.figure(figsize=(13,13))\nplt.imshow(wc)\nplt.axis('off')\nplt.title('Country: In which country do you currently reside?');",
      "execution_count": null,
      "outputs": []
    },
    {
      "metadata": {
        "_uuid": "876a2be3e7f9ca2f49f1fa715adca2a547038678"
      },
      "cell_type": "markdown",
      "source": " ## What developers think about future of AI?"
    },
    {
      "metadata": {
        "trusted": true,
        "_uuid": "fcb4f46c5428d0bd760795a0bede82d87fb9373a",
        "collapsed": true
      },
      "cell_type": "code",
      "source": "text = \" \".join((data['AIFuture']).astype(str)).lower()\nwc = WordCloud(max_words=1200, stopwords=STOPWORDS, colormap='cool', background_color='Black').generate(text)\nplt.figure(figsize=(13,13))\nplt.imshow(wc)\nplt.axis('off')\nplt.title('Opininon about future of AI?');",
      "execution_count": null,
      "outputs": []
    },
    {
      "metadata": {
        "_uuid": "82c378728f3c19a9108775c812119c379b8f395f"
      },
      "cell_type": "markdown",
      "source": "## Keywords for -Purpose of the UndergradMajor "
    },
    {
      "metadata": {
        "trusted": true,
        "_uuid": "e75b50a8894a423ae6312c6e10a65089f7210a77",
        "collapsed": true
      },
      "cell_type": "code",
      "source": "text = \" \".join((data['UndergradMajor']).astype(str)).lower()\nwc = WordCloud(max_words=1200, stopwords=STOPWORDS, colormap='cool', background_color='Black').generate(text)\nplt.figure(figsize=(13,13))\nplt.imshow(wc)\nplt.axis('off')\nplt.title('Purpose of the UnderGradMajor');",
      "execution_count": null,
      "outputs": []
    },
    {
      "metadata": {
        "_uuid": "eb6fc6018141ee06e713912a13587c636f49f4b4"
      },
      "cell_type": "markdown",
      "source": "## Keywords for -Purpose of the DevType "
    },
    {
      "metadata": {
        "trusted": true,
        "_uuid": "4147704d0e2fb4faad8db0725dde11208eac9eae",
        "collapsed": true
      },
      "cell_type": "code",
      "source": "text = \" \".join((data['DevType']).astype(str)).lower()\nwc = WordCloud(max_words=1200, stopwords=STOPWORDS, colormap='cool', background_color='Black').generate(text)\nplt.figure(figsize=(13,13))\nplt.imshow(wc)\nplt.axis('off')\nplt.title('Purpose of the DevType');",
      "execution_count": null,
      "outputs": []
    },
    {
      "metadata": {
        "_uuid": "59f7ad5c8c1d3f5a8b3347d4c745dada15a2d5af"
      },
      "cell_type": "markdown",
      "source": "## Keywords for -Purpose of the JobSatisfaction"
    },
    {
      "metadata": {
        "trusted": true,
        "_uuid": "1c7f061940d252fc6218cdeb021111ba0f136094",
        "collapsed": true
      },
      "cell_type": "code",
      "source": "text = \" \".join((data['JobSatisfaction']).astype(str)).lower()\nwc = WordCloud(max_words=1200, stopwords=STOPWORDS, colormap='cool', background_color='Black').generate(text)\nplt.figure(figsize=(13,13))\nplt.imshow(wc)\nplt.axis('off')\nplt.title('Purpose of the JobSatisfaction');",
      "execution_count": null,
      "outputs": []
    },
    {
      "metadata": {
        "_uuid": "a17632d999953dfc73ff83b08f5644520c6b0884"
      },
      "cell_type": "markdown",
      "source": "## Types of FormalEducation involved"
    },
    {
      "metadata": {
        "trusted": true,
        "_uuid": "f49af76ec552ccd43be2277fef18431717f3611a",
        "collapsed": true
      },
      "cell_type": "code",
      "source": "text = \" \".join((data['FormalEducation']).astype(str)).lower()\nwc = WordCloud(max_words=1200, stopwords=STOPWORDS, colormap='cool', background_color='Black').generate(text)\nplt.figure(figsize=(13,13))\nplt.imshow(wc)\nplt.axis('off')\nplt.title('Types of FormalEducation involved');",
      "execution_count": null,
      "outputs": []
    },
    {
      "metadata": {
        "_uuid": "c7e01de573b6d53b599d4dd237dff85e592ed73c"
      },
      "cell_type": "markdown",
      "source": "## Type of Employment "
    },
    {
      "metadata": {
        "trusted": true,
        "_uuid": "31231d8e91b3cf47afdc2c50606adc627b3aaec2",
        "collapsed": true
      },
      "cell_type": "code",
      "source": "text = \" \".join((data['Employment']).astype(str)).lower()\nwc = WordCloud(max_words=1200, stopwords=STOPWORDS, colormap='cool', background_color='Black').generate(text)\nplt.figure(figsize=(13,13))\nplt.imshow(wc)\nplt.axis('off')\nplt.title('Types of Employment');",
      "execution_count": null,
      "outputs": []
    },
    {
      "metadata": {
        "_uuid": "d2398759d51c789d6d064386be11478eb724f588"
      },
      "cell_type": "markdown",
      "source": "## Top Currency "
    },
    {
      "metadata": {
        "trusted": true,
        "_uuid": "8053f8598a815eb696f765fc949dcc7ed3f29e3d",
        "collapsed": true
      },
      "cell_type": "code",
      "source": "text = \" \".join((data['Currency']).astype(str)).lower()\nwc = WordCloud(max_words=1200, stopwords=STOPWORDS, colormap='cool', background_color='Black').generate(text)\nplt.figure(figsize=(13,13))\nplt.imshow(wc)\nplt.axis('off')\nplt.title('Top Currency');",
      "execution_count": null,
      "outputs": []
    },
    {
      "metadata": {
        "_uuid": "a80d6f90b721978a6abdf3af3954240810d15005"
      },
      "cell_type": "markdown",
      "source": "## Keywords for -Purpose of the SelfTaughtTypes"
    },
    {
      "metadata": {
        "trusted": true,
        "_uuid": "562481c047d58cfad5380309c139bb0920cb3b90",
        "collapsed": true
      },
      "cell_type": "code",
      "source": "text = \" \".join((data['SelfTaughtTypes']).astype(str)).lower()\nwc = WordCloud(max_words=1200, stopwords=STOPWORDS, colormap='cool', background_color='Black').generate(text)\nplt.figure(figsize=(13,13))\nplt.imshow(wc)\nplt.axis('off')\nplt.title('Purpose of the SelfTaughtTypes');",
      "execution_count": null,
      "outputs": []
    },
    {
      "metadata": {
        "_uuid": "54bc8af94bbfb426b4d45bdeffa0b1bafd27eeb3"
      },
      "cell_type": "markdown",
      "source": "## Top DatabaseWorkedWith by Developers"
    },
    {
      "metadata": {
        "trusted": true,
        "_uuid": "605a2236f708d7c34fe83ee07072484c430c8962",
        "collapsed": true
      },
      "cell_type": "code",
      "source": "text = \" \".join((data['DatabaseWorkedWith']).astype(str)).lower()\nwc = WordCloud(max_words=1200, stopwords=STOPWORDS, colormap='cool', background_color='Black').generate(text)\nplt.figure(figsize=(13,13))\nplt.imshow(wc)\nplt.axis('off')\nplt.title(' Top DatabaseWorkedWith by Developers');",
      "execution_count": null,
      "outputs": []
    },
    {
      "metadata": {
        "_uuid": "8718cd091280fe654579771a678d0979a9d3ae08"
      },
      "cell_type": "markdown",
      "source": "## Keywords for -Purpose of the EthicsResponsible"
    },
    {
      "metadata": {
        "trusted": true,
        "_uuid": "750f966bef7853481914e328bc4e3b196988482c",
        "collapsed": true
      },
      "cell_type": "code",
      "source": "text = \" \".join((data['EthicsResponsible']).astype(str)).lower()\nwc = WordCloud(max_words=1200, stopwords=STOPWORDS, colormap='cool', background_color='Black').generate(text)\nplt.figure(figsize=(13,13))\nplt.imshow(wc)\nplt.axis('off')\nplt.title('Purpose of the EthicsResponsible');",
      "execution_count": null,
      "outputs": []
    },
    {
      "metadata": {
        "_uuid": "8c80b98b9850a0773872c72ba6f6ae9aa5eaac2d"
      },
      "cell_type": "markdown",
      "source": "# Love analysing and Doing coding..."
    }
  ],
  "metadata": {
    "kernelspec": {
      "display_name": "Python 3",
      "language": "python",
      "name": "python3"
    },
    "language_info": {
      "name": "python",
      "version": "3.6.4",
      "mimetype": "text/x-python",
      "codemirror_mode": {
        "name": "ipython",
        "version": 3
      },
      "pygments_lexer": "ipython3",
      "nbconvert_exporter": "python",
      "file_extension": ".py"
    }
  },
  "nbformat": 4,
  "nbformat_minor": 1
}